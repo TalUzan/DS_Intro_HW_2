{
 "cells": [
  {
   "cell_type": "code",
   "execution_count": 22,
   "id": "b24041cb",
   "metadata": {},
   "outputs": [
    {
     "name": "stdout",
     "output_type": "stream",
     "text": [
      "inaD likes bananas Dani also likes apples\n"
     ]
    }
   ],
   "source": [
    "def q2(sentence, word):\n",
    "    sen = sentence.split()\n",
    "    word_in_sen = False\n",
    "    \n",
    "    if type(word) != str:\n",
    "        return(\"invalid input\")\n",
    "    else:\n",
    "        for i in range(len(sen)):\n",
    "            if sen[i] == word:\n",
    "                sen[i] = sen[i][::-1]\n",
    "                sen = ' '.join(sen)\n",
    "                word_in_sen = True\n",
    "                return(sen)\n",
    "                braek\n",
    "        if not word_in_sen:\n",
    "            return(\"could not find the word\")\n",
    "\n",
    "\n",
    "\n",
    "\n",
    "s1 = \"Dani likes bananas Dani also likes apples\"\n",
    "print(q2(s1,\"Dani\"))\n"
   ]
  },
  {
   "cell_type": "markdown",
   "id": "cfbb0313",
   "metadata": {},
   "source": [
    "print(s[3])"
   ]
  },
  {
   "cell_type": "code",
   "execution_count": 31,
   "id": "baa65a0f",
   "metadata": {},
   "outputs": [
    {
     "name": "stdout",
     "output_type": "stream",
     "text": [
      "8\n"
     ]
    }
   ],
   "source": []
  }
 ],
 "metadata": {
  "kernelspec": {
   "display_name": "Python 3 (ipykernel)",
   "language": "python",
   "name": "python3"
  },
  "language_info": {
   "codemirror_mode": {
    "name": "ipython",
    "version": 3
   },
   "file_extension": ".py",
   "mimetype": "text/x-python",
   "name": "python",
   "nbconvert_exporter": "python",
   "pygments_lexer": "ipython3",
   "version": "3.9.7"
  }
 },
 "nbformat": 4,
 "nbformat_minor": 5
}
